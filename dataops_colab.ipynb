{
  "nbformat": 4,
  "nbformat_minor": 5,
  "metadata": {
    "kernelspec": {
      "display_name": "Python 3 (ipykernel)",
      "language": "python",
      "name": "python3"
    },
    "language_info": {
      "codemirror_mode": {
        "name": "ipython",
        "version": 3
      },
      "file_extension": ".py",
      "mimetype": "text/x-python",
      "name": "python",
      "nbconvert_exporter": "python",
      "pygments_lexer": "ipython3",
      "version": "3.8.10"
    },
    "colab": {
      "name": "dataops.ipynb",
      "provenance": []
    }
  },
  "cells": [
    {
      "cell_type": "markdown",
      "metadata": {
        "id": "86c7c933"
      },
      "source": [
        "## This is a data EDA notebook template\n",
        "Use this as a template to create research/report/data view/data analysis jupyter notrebooks"
      ],
      "id": "86c7c933"
    },
    {
      "cell_type": "code",
      "metadata": {
        "id": "a190b575"
      },
      "source": [
        "import pandas as pd"
      ],
      "id": "a190b575",
      "execution_count": 1,
      "outputs": []
    },
    {
      "cell_type": "markdown",
      "metadata": {
        "id": "Pkr-MN-5aRCD"
      },
      "source": [
        "## Data Obtaining"
      ],
      "id": "Pkr-MN-5aRCD"
    },
    {
      "cell_type": "markdown",
      "metadata": {
        "id": "pALq9u8paBpZ"
      },
      "source": [
        "### Check if we are in colab and deal with it"
      ],
      "id": "pALq9u8paBpZ"
    },
    {
      "cell_type": "code",
      "metadata": {
        "colab": {
          "base_uri": "https://localhost:8080/"
        },
        "id": "QtGnJW4jaWEZ",
        "outputId": "b1f81443-f8d0-4bba-9891-85c50464abc0"
      },
      "source": [
        "RunningInCOLAB = 'google.colab' in str(get_ipython())\n",
        "if RunningInCOLAB:\n",
        "    from google.colab import drive\n",
        "    drive.mount('/gdrive')\n"
      ],
      "id": "QtGnJW4jaWEZ",
      "execution_count": 2,
      "outputs": [
        {
          "output_type": "stream",
          "name": "stdout",
          "text": [
            "Mounted at /gdrive\n"
          ]
        }
      ]
    },
    {
      "cell_type": "code",
      "metadata": {
        "id": "Uvc_kribb_so"
      },
      "source": [
        "if RunningInCOLAB:\n",
        "    script = \"\"\"mkdir -p ~/.ssh\n",
        "ssh-keyscan -t rsa github.com > ~/.ssh/known_hosts\n",
        "tar -xzvf /gdrive/MyDrive/ssh-keys/colab.tar.gz\n",
        "cp root/.ssh/id_rsa ~/.ssh/\n",
        "cp root/.ssh/id_rsa.pub ~/.ssh/\n",
        "git clone git@github.com:caretech-human/experimental-data.git\n",
        "mkdir \"sensor data\"\n",
        "cp -r \"/content/experimental-data/sensor data/20210914 SOE TGS COMPARE\" \"sensor data\"\n",
        "    \"\"\"\n",
        "    with open('pull.sh', \"w+\") as f:\n",
        "        f.write(script)\n",
        "    import os\n",
        "    os.system('sh pull.sh')"
      ],
      "id": "Uvc_kribb_so",
      "execution_count": 3,
      "outputs": []
    },
    {
      "cell_type": "markdown",
      "metadata": {
        "id": "0aa7b595"
      },
      "source": [
        "### Read test data into dataframe"
      ],
      "id": "0aa7b595"
    },
    {
      "cell_type": "code",
      "metadata": {
        "id": "f7de3ace"
      },
      "source": [
        "data_path = './sensor data/20210914 SOE TGS COMPARE/14/1631607436.csv'"
      ],
      "id": "f7de3ace",
      "execution_count": 9,
      "outputs": []
    },
    {
      "cell_type": "code",
      "metadata": {
        "id": "d46634cd"
      },
      "source": [
        "\n",
        "df = pd.read_csv(data_path, delimiter=';')"
      ],
      "id": "d46634cd",
      "execution_count": 10,
      "outputs": []
    },
    {
      "cell_type": "code",
      "metadata": {
        "colab": {
          "base_uri": "https://localhost:8080/",
          "height": 411
        },
        "id": "2058c0f4",
        "outputId": "16ec9b9a-52d3-4baa-e610-1db735c7ca47"
      },
      "source": [
        "df.head()"
      ],
      "id": "2058c0f4",
      "execution_count": 11,
      "outputs": [
        {
          "output_type": "execute_result",
          "data": {
            "text/html": [
              "<div>\n",
              "<style scoped>\n",
              "    .dataframe tbody tr th:only-of-type {\n",
              "        vertical-align: middle;\n",
              "    }\n",
              "\n",
              "    .dataframe tbody tr th {\n",
              "        vertical-align: top;\n",
              "    }\n",
              "\n",
              "    .dataframe thead th {\n",
              "        text-align: right;\n",
              "    }\n",
              "</style>\n",
              "<table border=\"1\" class=\"dataframe\">\n",
              "  <thead>\n",
              "    <tr style=\"text-align: right;\">\n",
              "      <th></th>\n",
              "      <th>firmware</th>\n",
              "      <th>serial</th>\n",
              "      <th>uiversion</th>\n",
              "      <th>runid</th>\n",
              "      <th>tdel</th>\n",
              "      <th>timestamp</th>\n",
              "      <th>algo</th>\n",
              "      <th>algoName</th>\n",
              "      <th>tm</th>\n",
              "      <th>Sensor Name</th>\n",
              "      <th>sensor</th>\n",
              "      <th>td</th>\n",
              "      <th>h</th>\n",
              "      <th>h_raw</th>\n",
              "      <th>Exper.Time</th>\n",
              "      <th>Exper.Time(absolute)</th>\n",
              "      <th>u</th>\n",
              "      <th>g</th>\n",
              "      <th>Sensor Name.1</th>\n",
              "      <th>sensor.1</th>\n",
              "      <th>td.1</th>\n",
              "      <th>h.1</th>\n",
              "      <th>h_raw.1</th>\n",
              "      <th>Exper.Time.1</th>\n",
              "      <th>Exper.Time(absolute).1</th>\n",
              "      <th>u.1</th>\n",
              "      <th>g.1</th>\n",
              "      <th>Sensor Name.2</th>\n",
              "      <th>sensor.2</th>\n",
              "      <th>td.2</th>\n",
              "      <th>h.2</th>\n",
              "      <th>h_raw.2</th>\n",
              "      <th>Exper.Time.2</th>\n",
              "      <th>Exper.Time(absolute).2</th>\n",
              "      <th>u.2</th>\n",
              "      <th>g.2</th>\n",
              "      <th>Sensor Name.3</th>\n",
              "      <th>sensor.3</th>\n",
              "      <th>td.3</th>\n",
              "      <th>h.3</th>\n",
              "      <th>h_raw.3</th>\n",
              "      <th>Exper.Time.3</th>\n",
              "      <th>Exper.Time(absolute).3</th>\n",
              "      <th>u.3</th>\n",
              "      <th>g.3</th>\n",
              "      <th>timestamp.1</th>\n",
              "      <th>Temp</th>\n",
              "      <th>Delta Temp</th>\n",
              "      <th>Hum</th>\n",
              "      <th>Delta Hum</th>\n",
              "    </tr>\n",
              "  </thead>\n",
              "  <tbody>\n",
              "    <tr>\n",
              "      <th>0</th>\n",
              "      <td>(V3)cwp_v2021_21</td>\n",
              "      <td>246F28A998D0</td>\n",
              "      <td>version3-8716f48</td>\n",
              "      <td>1631607436</td>\n",
              "      <td>10</td>\n",
              "      <td>20210914_111716</td>\n",
              "      <td>7</td>\n",
              "      <td>a6</td>\n",
              "      <td>20</td>\n",
              "      <td>N17-TGS-8100</td>\n",
              "      <td>1</td>\n",
              "      <td>2500</td>\n",
              "      <td>1147</td>\n",
              "      <td>178</td>\n",
              "      <td>0</td>\n",
              "      <td>0</td>\n",
              "      <td>4317</td>\n",
              "      <td>48.4784</td>\n",
              "      <td>N23-TGS-8100</td>\n",
              "      <td>2</td>\n",
              "      <td>2500</td>\n",
              "      <td>1147</td>\n",
              "      <td>178</td>\n",
              "      <td>24980</td>\n",
              "      <td>0</td>\n",
              "      <td>4878</td>\n",
              "      <td>58.4612</td>\n",
              "      <td>N21-TGS-8100</td>\n",
              "      <td>3</td>\n",
              "      <td>2500</td>\n",
              "      <td>1147</td>\n",
              "      <td>178</td>\n",
              "      <td>49960</td>\n",
              "      <td>0</td>\n",
              "      <td>6325</td>\n",
              "      <td>91.5738</td>\n",
              "      <td>N22-TGS-8100</td>\n",
              "      <td>4</td>\n",
              "      <td>2500</td>\n",
              "      <td>1147</td>\n",
              "      <td>178</td>\n",
              "      <td>74940</td>\n",
              "      <td>0</td>\n",
              "      <td>5286</td>\n",
              "      <td>66.4906</td>\n",
              "      <td>858.0</td>\n",
              "      <td>25.1</td>\n",
              "      <td>0.2</td>\n",
              "      <td>0.0</td>\n",
              "      <td>0.0</td>\n",
              "    </tr>\n",
              "    <tr>\n",
              "      <th>1</th>\n",
              "      <td>(V3)cwp_v2021_21</td>\n",
              "      <td>246F28A998D0</td>\n",
              "      <td>version3-8716f48</td>\n",
              "      <td>1631607436</td>\n",
              "      <td>10</td>\n",
              "      <td>20210914_111716</td>\n",
              "      <td>7</td>\n",
              "      <td>a6</td>\n",
              "      <td>20</td>\n",
              "      <td>N17-TGS-8100</td>\n",
              "      <td>1</td>\n",
              "      <td>2500</td>\n",
              "      <td>1147</td>\n",
              "      <td>178</td>\n",
              "      <td>20</td>\n",
              "      <td>20</td>\n",
              "      <td>7036</td>\n",
              "      <td>113.7407</td>\n",
              "      <td>N23-TGS-8100</td>\n",
              "      <td>2</td>\n",
              "      <td>2500</td>\n",
              "      <td>1147</td>\n",
              "      <td>178</td>\n",
              "      <td>25000</td>\n",
              "      <td>20</td>\n",
              "      <td>7654</td>\n",
              "      <td>137.4641</td>\n",
              "      <td>N21-TGS-8100</td>\n",
              "      <td>3</td>\n",
              "      <td>2500</td>\n",
              "      <td>1147</td>\n",
              "      <td>178</td>\n",
              "      <td>49980</td>\n",
              "      <td>20</td>\n",
              "      <td>8533</td>\n",
              "      <td>181.5918</td>\n",
              "      <td>N22-TGS-8100</td>\n",
              "      <td>4</td>\n",
              "      <td>2500</td>\n",
              "      <td>1147</td>\n",
              "      <td>178</td>\n",
              "      <td>74960</td>\n",
              "      <td>20</td>\n",
              "      <td>7798</td>\n",
              "      <td>143.3983</td>\n",
              "      <td>1864.0</td>\n",
              "      <td>25.2</td>\n",
              "      <td>0.1</td>\n",
              "      <td>0.0</td>\n",
              "      <td>0.0</td>\n",
              "    </tr>\n",
              "    <tr>\n",
              "      <th>2</th>\n",
              "      <td>(V3)cwp_v2021_21</td>\n",
              "      <td>246F28A998D0</td>\n",
              "      <td>version3-8716f48</td>\n",
              "      <td>1631607436</td>\n",
              "      <td>10</td>\n",
              "      <td>20210914_111716</td>\n",
              "      <td>7</td>\n",
              "      <td>a6</td>\n",
              "      <td>20</td>\n",
              "      <td>N17-TGS-8100</td>\n",
              "      <td>1</td>\n",
              "      <td>2500</td>\n",
              "      <td>1147</td>\n",
              "      <td>178</td>\n",
              "      <td>40</td>\n",
              "      <td>40</td>\n",
              "      <td>7237</td>\n",
              "      <td>120.9190</td>\n",
              "      <td>N23-TGS-8100</td>\n",
              "      <td>2</td>\n",
              "      <td>2500</td>\n",
              "      <td>1147</td>\n",
              "      <td>178</td>\n",
              "      <td>25020</td>\n",
              "      <td>40</td>\n",
              "      <td>7871</td>\n",
              "      <td>147.0940</td>\n",
              "      <td>N21-TGS-8100</td>\n",
              "      <td>3</td>\n",
              "      <td>2500</td>\n",
              "      <td>1147</td>\n",
              "      <td>178</td>\n",
              "      <td>50000</td>\n",
              "      <td>40</td>\n",
              "      <td>8644</td>\n",
              "      <td>188.4045</td>\n",
              "      <td>N22-TGS-8100</td>\n",
              "      <td>4</td>\n",
              "      <td>2500</td>\n",
              "      <td>1147</td>\n",
              "      <td>178</td>\n",
              "      <td>74980</td>\n",
              "      <td>40</td>\n",
              "      <td>7992</td>\n",
              "      <td>152.4027</td>\n",
              "      <td>2768.0</td>\n",
              "      <td>25.2</td>\n",
              "      <td>0.1</td>\n",
              "      <td>0.0</td>\n",
              "      <td>0.0</td>\n",
              "    </tr>\n",
              "    <tr>\n",
              "      <th>3</th>\n",
              "      <td>(V3)cwp_v2021_21</td>\n",
              "      <td>246F28A998D0</td>\n",
              "      <td>version3-8716f48</td>\n",
              "      <td>1631607436</td>\n",
              "      <td>10</td>\n",
              "      <td>20210914_111716</td>\n",
              "      <td>7</td>\n",
              "      <td>a6</td>\n",
              "      <td>20</td>\n",
              "      <td>N17-TGS-8100</td>\n",
              "      <td>1</td>\n",
              "      <td>2500</td>\n",
              "      <td>1147</td>\n",
              "      <td>178</td>\n",
              "      <td>60</td>\n",
              "      <td>60</td>\n",
              "      <td>7335</td>\n",
              "      <td>124.5966</td>\n",
              "      <td>N23-TGS-8100</td>\n",
              "      <td>2</td>\n",
              "      <td>2500</td>\n",
              "      <td>1147</td>\n",
              "      <td>178</td>\n",
              "      <td>25040</td>\n",
              "      <td>60</td>\n",
              "      <td>7968</td>\n",
              "      <td>151.6559</td>\n",
              "      <td>N21-TGS-8100</td>\n",
              "      <td>3</td>\n",
              "      <td>2500</td>\n",
              "      <td>1147</td>\n",
              "      <td>178</td>\n",
              "      <td>50020</td>\n",
              "      <td>60</td>\n",
              "      <td>8685</td>\n",
              "      <td>191.0051</td>\n",
              "      <td>N22-TGS-8100</td>\n",
              "      <td>4</td>\n",
              "      <td>2500</td>\n",
              "      <td>1147</td>\n",
              "      <td>178</td>\n",
              "      <td>75000</td>\n",
              "      <td>60</td>\n",
              "      <td>8087</td>\n",
              "      <td>157.0596</td>\n",
              "      <td>3771.0</td>\n",
              "      <td>25.3</td>\n",
              "      <td>0.0</td>\n",
              "      <td>0.0</td>\n",
              "      <td>0.0</td>\n",
              "    </tr>\n",
              "    <tr>\n",
              "      <th>4</th>\n",
              "      <td>(V3)cwp_v2021_21</td>\n",
              "      <td>246F28A998D0</td>\n",
              "      <td>version3-8716f48</td>\n",
              "      <td>1631607436</td>\n",
              "      <td>10</td>\n",
              "      <td>20210914_111716</td>\n",
              "      <td>7</td>\n",
              "      <td>a6</td>\n",
              "      <td>20</td>\n",
              "      <td>N17-TGS-8100</td>\n",
              "      <td>1</td>\n",
              "      <td>2500</td>\n",
              "      <td>1147</td>\n",
              "      <td>178</td>\n",
              "      <td>80</td>\n",
              "      <td>80</td>\n",
              "      <td>7405</td>\n",
              "      <td>127.2993</td>\n",
              "      <td>N23-TGS-8100</td>\n",
              "      <td>2</td>\n",
              "      <td>2500</td>\n",
              "      <td>1147</td>\n",
              "      <td>178</td>\n",
              "      <td>25060</td>\n",
              "      <td>80</td>\n",
              "      <td>8029</td>\n",
              "      <td>154.6120</td>\n",
              "      <td>N21-TGS-8100</td>\n",
              "      <td>3</td>\n",
              "      <td>2500</td>\n",
              "      <td>1147</td>\n",
              "      <td>178</td>\n",
              "      <td>50040</td>\n",
              "      <td>80</td>\n",
              "      <td>8706</td>\n",
              "      <td>192.3553</td>\n",
              "      <td>N22-TGS-8100</td>\n",
              "      <td>4</td>\n",
              "      <td>2500</td>\n",
              "      <td>1147</td>\n",
              "      <td>178</td>\n",
              "      <td>75020</td>\n",
              "      <td>80</td>\n",
              "      <td>8150</td>\n",
              "      <td>160.2438</td>\n",
              "      <td>4774.0</td>\n",
              "      <td>25.3</td>\n",
              "      <td>0.0</td>\n",
              "      <td>0.0</td>\n",
              "      <td>0.0</td>\n",
              "    </tr>\n",
              "  </tbody>\n",
              "</table>\n",
              "</div>"
            ],
            "text/plain": [
              "           firmware        serial         uiversion  ...  Delta Temp  Hum Delta Hum\n",
              "0  (V3)cwp_v2021_21  246F28A998D0  version3-8716f48  ...         0.2  0.0       0.0\n",
              "1  (V3)cwp_v2021_21  246F28A998D0  version3-8716f48  ...         0.1  0.0       0.0\n",
              "2  (V3)cwp_v2021_21  246F28A998D0  version3-8716f48  ...         0.1  0.0       0.0\n",
              "3  (V3)cwp_v2021_21  246F28A998D0  version3-8716f48  ...         0.0  0.0       0.0\n",
              "4  (V3)cwp_v2021_21  246F28A998D0  version3-8716f48  ...         0.0  0.0       0.0\n",
              "\n",
              "[5 rows x 50 columns]"
            ]
          },
          "metadata": {},
          "execution_count": 11
        }
      ]
    },
    {
      "cell_type": "code",
      "metadata": {
        "colab": {
          "base_uri": "https://localhost:8080/"
        },
        "id": "3d8d86ce",
        "outputId": "2264c6e4-c26a-4c61-a7f0-37b1bf002e2b"
      },
      "source": [
        "df.columns.values"
      ],
      "id": "3d8d86ce",
      "execution_count": 12,
      "outputs": [
        {
          "output_type": "execute_result",
          "data": {
            "text/plain": [
              "array(['firmware', 'serial', 'uiversion', 'runid', 'tdel', 'timestamp',\n",
              "       'algo', 'algoName', 'tm', 'Sensor Name', 'sensor', 'td', 'h',\n",
              "       'h_raw', 'Exper.Time', 'Exper.Time(absolute)', 'u', 'g',\n",
              "       'Sensor Name.1', 'sensor.1', 'td.1', 'h.1', 'h_raw.1',\n",
              "       'Exper.Time.1', 'Exper.Time(absolute).1', 'u.1', 'g.1',\n",
              "       'Sensor Name.2', 'sensor.2', 'td.2', 'h.2', 'h_raw.2',\n",
              "       'Exper.Time.2', 'Exper.Time(absolute).2', 'u.2', 'g.2',\n",
              "       'Sensor Name.3', 'sensor.3', 'td.3', 'h.3', 'h_raw.3',\n",
              "       'Exper.Time.3', 'Exper.Time(absolute).3', 'u.3', 'g.3',\n",
              "       'timestamp.1', 'Temp', 'Delta Temp', 'Hum', 'Delta Hum'],\n",
              "      dtype=object)"
            ]
          },
          "metadata": {},
          "execution_count": 12
        }
      ]
    },
    {
      "cell_type": "markdown",
      "metadata": {
        "id": "45d5142d"
      },
      "source": [
        "### Visualize the data"
      ],
      "id": "45d5142d"
    },
    {
      "cell_type": "code",
      "metadata": {
        "colab": {
          "base_uri": "https://localhost:8080/",
          "height": 295
        },
        "id": "b75e85eb",
        "outputId": "637bda0c-0503-4150-aa9e-36bc0dc19e4e"
      },
      "source": [
        "import matplotlib.pyplot as plt\n",
        "import numpy as np\n",
        "\n",
        "# Data for plotting\n",
        "t = df['Exper.Time']\n",
        "s = df['g']\n",
        "s1 = df['g.1']\n",
        "s2 = df['g.2']\n",
        "s3 = df['g.3']\n",
        "\n",
        "fig, ax = plt.subplots()\n",
        "ax.plot(t, s)\n",
        "ax.plot(t, s1)\n",
        "ax.plot(t, s2)\n",
        "ax.plot(t, s3)\n",
        "\n",
        "\n",
        "ax.set(xlabel='time (ms)', ylabel='conductivity (g)',\n",
        "       title='Sensor relaxation process')\n",
        "ax.grid()\n",
        "\n",
        "# fig.savefig(\"relaxation.png\")\n",
        "plt.show()"
      ],
      "id": "b75e85eb",
      "execution_count": 13,
      "outputs": [
        {
          "output_type": "display_data",
          "data": {
            "image/png": "[encoded data removed]",
            "text/plain": [
              "<Figure size 432x288 with 1 Axes>"
            ]
          },
          "metadata": {
            "needs_background": "light"
          }
        }
      ]
    },
    {
      "cell_type": "code",
      "metadata": {
        "id": "eb43a2eb"
      },
      "source": [
        ""
      ],
      "id": "eb43a2eb",
      "execution_count": null,
      "outputs": []
    }
  ]
}