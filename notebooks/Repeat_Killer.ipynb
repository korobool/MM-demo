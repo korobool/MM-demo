{
 "cells": [
  {
   "cell_type": "code",
   "execution_count": 86,
   "metadata": {},
   "outputs": [],
   "source": [
    "import collections"
   ]
  },
  {
   "cell_type": "code",
   "execution_count": 87,
   "metadata": {},
   "outputs": [],
   "source": [
    "entities = [['the united states of america', 98.8],\n",
    "            ['washington', 86.6],\n",
    "            ['the united states', 98.6],\n",
    "            ['five', 82.5],\n",
    "            ['five', 81.0],\n",
    "            ['washington', 95.0],\n",
    "            ['north america', 100.0],\n",
    "            ['canada', 96.0],\n",
    "            ['mexico', 89.5],\n",
    "            ['alaska', 100.0],\n",
    "            ['hawaii', 100.0],\n",
    "            ['washington', 91.0],\n",
    "            ['the mid - pacific', 93.2], \n",
    "            ['the pacific ocean', 97.5],\n",
    "            ['the caribbean sea', 100.0]]"
   ]
  },
  {
   "cell_type": "code",
   "execution_count": 88,
   "metadata": {},
   "outputs": [],
   "source": [
    "def take_second(elem):\n",
    "        return elem[1]"
   ]
  },
  {
   "cell_type": "code",
   "execution_count": 89,
   "metadata": {},
   "outputs": [],
   "source": [
    "def repeat_killer(data):\n",
    "    result = []\n",
    "    a = [x[0] for x in data]\n",
    "    b = [item for item, count in collections.Counter(a).items() if count > 1]\n",
    "    if not b:\n",
    "        return data\n",
    "    result = []\n",
    "    for item1 in b:\n",
    "        c = [x for x in data if x[0]==item1]\n",
    "        c.sort(key=take_second, reverse=True)\n",
    "        result.append(c[0])\n",
    "    names = [x[0] for x in result]\n",
    "    for item2 in data:\n",
    "        if item2[0] not in names:\n",
    "            result.append(item2)\n",
    "    return result"
   ]
  },
  {
   "cell_type": "code",
   "execution_count": 90,
   "metadata": {},
   "outputs": [
    {
     "name": "stdout",
     "output_type": "stream",
     "text": [
      "['five', 'washington']\n"
     ]
    },
    {
     "data": {
      "text/plain": [
       "[['five', 82.5],\n",
       " ['washington', 95.0],\n",
       " ['the united states of america', 98.8],\n",
       " ['the united states', 98.6],\n",
       " ['north america', 100.0],\n",
       " ['canada', 96.0],\n",
       " ['mexico', 89.5],\n",
       " ['alaska', 100.0],\n",
       " ['hawaii', 100.0],\n",
       " ['the mid - pacific', 93.2],\n",
       " ['the pacific ocean', 97.5],\n",
       " ['the caribbean sea', 100.0]]"
      ]
     },
     "execution_count": 90,
     "metadata": {},
     "output_type": "execute_result"
    }
   ],
   "source": [
    "repeat_killer(entities)"
   ]
  },
  {
   "cell_type": "code",
   "execution_count": 91,
   "metadata": {},
   "outputs": [],
   "source": [
    "entities = [['the united states of america', 98.8],\n",
    "            ['washington', 86.6],\n",
    "            ['the united states', 98.6]]"
   ]
  },
  {
   "cell_type": "code",
   "execution_count": 92,
   "metadata": {},
   "outputs": [
    {
     "name": "stdout",
     "output_type": "stream",
     "text": [
      "[]\n"
     ]
    },
    {
     "data": {
      "text/plain": [
       "[['the united states of america', 98.8],\n",
       " ['washington', 86.6],\n",
       " ['the united states', 98.6]]"
      ]
     },
     "execution_count": 92,
     "metadata": {},
     "output_type": "execute_result"
    }
   ],
   "source": [
    "repeat_killer(entities)"
   ]
  }
 ],
 "metadata": {
  "kernelspec": {
   "display_name": "Python 3",
   "language": "python",
   "name": "python3"
  },
  "language_info": {
   "codemirror_mode": {
    "name": "ipython",
    "version": 3
   },
   "file_extension": ".py",
   "mimetype": "text/x-python",
   "name": "python",
   "nbconvert_exporter": "python",
   "pygments_lexer": "ipython3",
   "version": "3.5.2"
  }
 },
 "nbformat": 4,
 "nbformat_minor": 2
}
