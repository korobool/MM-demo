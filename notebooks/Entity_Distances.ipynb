{
 "cells": [
  {
   "cell_type": "code",
   "execution_count": 1,
   "metadata": {},
   "outputs": [],
   "source": [
    "import json\n",
    "import pandas\n",
    "import numpy as np\n",
    "from gensim import models"
   ]
  },
  {
   "cell_type": "code",
   "execution_count": 2,
   "metadata": {},
   "outputs": [],
   "source": [
    "model = models.Doc2Vec.load('./d2w_model/model.bin')"
   ]
  },
  {
   "cell_type": "code",
   "execution_count": 3,
   "metadata": {},
   "outputs": [],
   "source": [
    "def compare_sentences(sentence_a, sentence_b, iters=50):\n",
    "    s = 0\n",
    "    if sentence_a == sentence_b:\n",
    "        return 1.0\n",
    "    for i in range(iters):\n",
    "        a = model.infer_vector(sentence_a.split(), steps=10)\n",
    "        b = model.infer_vector(sentence_b.split(), steps=10)\n",
    "        s += np.dot(a, b)/np.linalg.norm(a)/np.linalg.norm(b)\n",
    "    return s/iters"
   ]
  },
  {
   "cell_type": "code",
   "execution_count": 4,
   "metadata": {},
   "outputs": [],
   "source": [
    "def take_second(elem):\n",
    "    return elem[1]"
   ]
  },
  {
   "cell_type": "code",
   "execution_count": 5,
   "metadata": {},
   "outputs": [],
   "source": [
    "entities = [['the united states of america', 98.8],\n",
    "            ['washington', 96.6],\n",
    "            ['the united states', 98.6],\n",
    "            ['five', 82.5],\n",
    "            ['north america', 100.0],\n",
    "            ['canada', 96.0],\n",
    "            ['mexico', 89.5],\n",
    "            ['alaska', 100.0],\n",
    "            ['hawaii', 100.0],\n",
    "            ['the mid - pacific', 93.2], \n",
    "            ['the pacific ocean', 97.5],\n",
    "            ['the caribbean sea', 100.0]]"
   ]
  },
  {
   "cell_type": "code",
   "execution_count": 6,
   "metadata": {},
   "outputs": [
    {
     "name": "stdout",
     "output_type": "stream",
     "text": [
      "[['north america', 100.0], ['alaska', 100.0], ['hawaii', 100.0], ['the caribbean sea', 100.0], ['the united states of america', 98.8], ['the united states', 98.6], ['the pacific ocean', 97.5], ['washington', 96.6], ['canada', 96.0], ['the mid - pacific', 93.2], ['mexico', 89.5], ['five', 82.5]]\n"
     ]
    }
   ],
   "source": [
    "entities.sort(key=take_second, reverse=True)\n",
    "print(entities)"
   ]
  },
  {
   "cell_type": "code",
   "execution_count": 7,
   "metadata": {},
   "outputs": [
    {
     "name": "stdout",
     "output_type": "stream",
     "text": [
      "[['north america', 100.0], ['alaska', 100.0], ['hawaii', 100.0], ['the caribbean sea', 100.0], ['the united states of america', 98.8], ['the united states', 98.6], ['the pacific ocean', 97.5], ['washington', 96.6], ['canada', 96.0], ['the mid - pacific', 93.2]]\n"
     ]
    }
   ],
   "source": [
    "matrix_shape = 10\n",
    "entities_popular = entities[:matrix_shape]\n",
    "print(entities_popular)"
   ]
  },
  {
   "cell_type": "code",
   "execution_count": 8,
   "metadata": {},
   "outputs": [],
   "source": [
    "relationship_matrix = np.zeros(shape=(matrix_shape, matrix_shape), dtype=float)\n",
    "\n",
    "for i in range(matrix_shape):\n",
    "    for j in range(i, matrix_shape):\n",
    "        # print(compare_sentences(entities_popular[i][0], entities_popular[j][0]))\n",
    "        # print(entities_popular[i][0], '--->', entities_popular[j][0])\n",
    "        relationship_matrix[i, j] = compare_sentences(entities_popular[i][0], entities_popular[j][0])"
   ]
  },
  {
   "cell_type": "code",
   "execution_count": 9,
   "metadata": {},
   "outputs": [],
   "source": [
    "labels = [x[0] for x in entities_popular]\n",
    "# print(labels)"
   ]
  },
  {
   "cell_type": "code",
   "execution_count": 10,
   "metadata": {},
   "outputs": [],
   "source": [
    "df = pandas.DataFrame(data=relationship_matrix, columns=labels, index=labels)"
   ]
  },
  {
   "cell_type": "code",
   "execution_count": 11,
   "metadata": {},
   "outputs": [
    {
     "data": {
      "text/html": [
       "<div>\n",
       "<style scoped>\n",
       "    .dataframe tbody tr th:only-of-type {\n",
       "        vertical-align: middle;\n",
       "    }\n",
       "\n",
       "    .dataframe tbody tr th {\n",
       "        vertical-align: top;\n",
       "    }\n",
       "\n",
       "    .dataframe thead th {\n",
       "        text-align: right;\n",
       "    }\n",
       "</style>\n",
       "<table border=\"1\" class=\"dataframe\">\n",
       "  <thead>\n",
       "    <tr style=\"text-align: right;\">\n",
       "      <th></th>\n",
       "      <th>north america</th>\n",
       "      <th>alaska</th>\n",
       "      <th>hawaii</th>\n",
       "      <th>the caribbean sea</th>\n",
       "      <th>the united states of america</th>\n",
       "      <th>the united states</th>\n",
       "      <th>the pacific ocean</th>\n",
       "      <th>washington</th>\n",
       "      <th>canada</th>\n",
       "      <th>the mid - pacific</th>\n",
       "    </tr>\n",
       "  </thead>\n",
       "  <tbody>\n",
       "    <tr>\n",
       "      <th>north america</th>\n",
       "      <td>1.0</td>\n",
       "      <td>0.60159</td>\n",
       "      <td>0.638545</td>\n",
       "      <td>0.991475</td>\n",
       "      <td>0.993084</td>\n",
       "      <td>0.994418</td>\n",
       "      <td>0.993212</td>\n",
       "      <td>0.710439</td>\n",
       "      <td>0.697457</td>\n",
       "      <td>0.957964</td>\n",
       "    </tr>\n",
       "    <tr>\n",
       "      <th>alaska</th>\n",
       "      <td>0.0</td>\n",
       "      <td>1.00000</td>\n",
       "      <td>0.670335</td>\n",
       "      <td>0.598727</td>\n",
       "      <td>0.595867</td>\n",
       "      <td>0.597164</td>\n",
       "      <td>0.595802</td>\n",
       "      <td>0.540570</td>\n",
       "      <td>0.603701</td>\n",
       "      <td>0.611388</td>\n",
       "    </tr>\n",
       "    <tr>\n",
       "      <th>hawaii</th>\n",
       "      <td>0.0</td>\n",
       "      <td>0.00000</td>\n",
       "      <td>1.000000</td>\n",
       "      <td>0.638974</td>\n",
       "      <td>0.632868</td>\n",
       "      <td>0.636785</td>\n",
       "      <td>0.639703</td>\n",
       "      <td>0.555927</td>\n",
       "      <td>0.596242</td>\n",
       "      <td>0.639369</td>\n",
       "    </tr>\n",
       "    <tr>\n",
       "      <th>the caribbean sea</th>\n",
       "      <td>0.0</td>\n",
       "      <td>0.00000</td>\n",
       "      <td>0.000000</td>\n",
       "      <td>1.000000</td>\n",
       "      <td>0.990813</td>\n",
       "      <td>0.991930</td>\n",
       "      <td>0.991604</td>\n",
       "      <td>0.701840</td>\n",
       "      <td>0.694384</td>\n",
       "      <td>0.958211</td>\n",
       "    </tr>\n",
       "    <tr>\n",
       "      <th>the united states of america</th>\n",
       "      <td>0.0</td>\n",
       "      <td>0.00000</td>\n",
       "      <td>0.000000</td>\n",
       "      <td>0.000000</td>\n",
       "      <td>1.000000</td>\n",
       "      <td>0.993132</td>\n",
       "      <td>0.992315</td>\n",
       "      <td>0.703319</td>\n",
       "      <td>0.693599</td>\n",
       "      <td>0.957967</td>\n",
       "    </tr>\n",
       "    <tr>\n",
       "      <th>the united states</th>\n",
       "      <td>0.0</td>\n",
       "      <td>0.00000</td>\n",
       "      <td>0.000000</td>\n",
       "      <td>0.000000</td>\n",
       "      <td>0.000000</td>\n",
       "      <td>1.000000</td>\n",
       "      <td>0.993998</td>\n",
       "      <td>0.708864</td>\n",
       "      <td>0.691494</td>\n",
       "      <td>0.959360</td>\n",
       "    </tr>\n",
       "    <tr>\n",
       "      <th>the pacific ocean</th>\n",
       "      <td>0.0</td>\n",
       "      <td>0.00000</td>\n",
       "      <td>0.000000</td>\n",
       "      <td>0.000000</td>\n",
       "      <td>0.000000</td>\n",
       "      <td>0.000000</td>\n",
       "      <td>1.000000</td>\n",
       "      <td>0.704410</td>\n",
       "      <td>0.697320</td>\n",
       "      <td>0.954463</td>\n",
       "    </tr>\n",
       "    <tr>\n",
       "      <th>washington</th>\n",
       "      <td>0.0</td>\n",
       "      <td>0.00000</td>\n",
       "      <td>0.000000</td>\n",
       "      <td>0.000000</td>\n",
       "      <td>0.000000</td>\n",
       "      <td>0.000000</td>\n",
       "      <td>0.000000</td>\n",
       "      <td>1.000000</td>\n",
       "      <td>0.563230</td>\n",
       "      <td>0.691904</td>\n",
       "    </tr>\n",
       "    <tr>\n",
       "      <th>canada</th>\n",
       "      <td>0.0</td>\n",
       "      <td>0.00000</td>\n",
       "      <td>0.000000</td>\n",
       "      <td>0.000000</td>\n",
       "      <td>0.000000</td>\n",
       "      <td>0.000000</td>\n",
       "      <td>0.000000</td>\n",
       "      <td>0.000000</td>\n",
       "      <td>1.000000</td>\n",
       "      <td>0.692806</td>\n",
       "    </tr>\n",
       "    <tr>\n",
       "      <th>the mid - pacific</th>\n",
       "      <td>0.0</td>\n",
       "      <td>0.00000</td>\n",
       "      <td>0.000000</td>\n",
       "      <td>0.000000</td>\n",
       "      <td>0.000000</td>\n",
       "      <td>0.000000</td>\n",
       "      <td>0.000000</td>\n",
       "      <td>0.000000</td>\n",
       "      <td>0.000000</td>\n",
       "      <td>1.000000</td>\n",
       "    </tr>\n",
       "  </tbody>\n",
       "</table>\n",
       "</div>"
      ],
      "text/plain": [
       "                              north america   alaska    hawaii  \\\n",
       "north america                           1.0  0.60159  0.638545   \n",
       "alaska                                  0.0  1.00000  0.670335   \n",
       "hawaii                                  0.0  0.00000  1.000000   \n",
       "the caribbean sea                       0.0  0.00000  0.000000   \n",
       "the united states of america            0.0  0.00000  0.000000   \n",
       "the united states                       0.0  0.00000  0.000000   \n",
       "the pacific ocean                       0.0  0.00000  0.000000   \n",
       "washington                              0.0  0.00000  0.000000   \n",
       "canada                                  0.0  0.00000  0.000000   \n",
       "the mid - pacific                       0.0  0.00000  0.000000   \n",
       "\n",
       "                              the caribbean sea  the united states of america  \\\n",
       "north america                          0.991475                      0.993084   \n",
       "alaska                                 0.598727                      0.595867   \n",
       "hawaii                                 0.638974                      0.632868   \n",
       "the caribbean sea                      1.000000                      0.990813   \n",
       "the united states of america           0.000000                      1.000000   \n",
       "the united states                      0.000000                      0.000000   \n",
       "the pacific ocean                      0.000000                      0.000000   \n",
       "washington                             0.000000                      0.000000   \n",
       "canada                                 0.000000                      0.000000   \n",
       "the mid - pacific                      0.000000                      0.000000   \n",
       "\n",
       "                              the united states  the pacific ocean  \\\n",
       "north america                          0.994418           0.993212   \n",
       "alaska                                 0.597164           0.595802   \n",
       "hawaii                                 0.636785           0.639703   \n",
       "the caribbean sea                      0.991930           0.991604   \n",
       "the united states of america           0.993132           0.992315   \n",
       "the united states                      1.000000           0.993998   \n",
       "the pacific ocean                      0.000000           1.000000   \n",
       "washington                             0.000000           0.000000   \n",
       "canada                                 0.000000           0.000000   \n",
       "the mid - pacific                      0.000000           0.000000   \n",
       "\n",
       "                              washington    canada  the mid - pacific  \n",
       "north america                   0.710439  0.697457           0.957964  \n",
       "alaska                          0.540570  0.603701           0.611388  \n",
       "hawaii                          0.555927  0.596242           0.639369  \n",
       "the caribbean sea               0.701840  0.694384           0.958211  \n",
       "the united states of america    0.703319  0.693599           0.957967  \n",
       "the united states               0.708864  0.691494           0.959360  \n",
       "the pacific ocean               0.704410  0.697320           0.954463  \n",
       "washington                      1.000000  0.563230           0.691904  \n",
       "canada                          0.000000  1.000000           0.692806  \n",
       "the mid - pacific               0.000000  0.000000           1.000000  "
      ]
     },
     "execution_count": 11,
     "metadata": {},
     "output_type": "execute_result"
    }
   ],
   "source": [
    "df"
   ]
  },
  {
   "cell_type": "code",
   "execution_count": 12,
   "metadata": {},
   "outputs": [
    {
     "name": "stdout",
     "output_type": "stream",
     "text": [
      "0.6015896689891815\n",
      "0.9908133590221405\n",
      "the caribbean sea\n",
      "the mid - pacific\n"
     ]
    }
   ],
   "source": [
    "print(df.loc['north america'].at['alaska'])\n",
    "print(df.iloc[3, 4])\n",
    "print(df.index[3])\n",
    "print(df.columns[9])"
   ]
  },
  {
   "cell_type": "code",
   "execution_count": 13,
   "metadata": {},
   "outputs": [],
   "source": [
    "def check_max_repeat(ent):\n",
    "    first_max = ent[0]\n",
    "    result = []\n",
    "    for x in ent:\n",
    "        if x[1] == first_max[1]:\n",
    "            result.append(x)\n",
    "    return result"
   ]
  },
  {
   "cell_type": "code",
   "execution_count": 14,
   "metadata": {},
   "outputs": [],
   "source": [
    "def check_max_score(ent_max, matrix, matrix_shape):\n",
    "    result = [0]*len(ent_max)\n",
    "    for number in range(len(ent_max)):\n",
    "        sum_row = 0\n",
    "        sum_col = 0\n",
    "        for i in range(matrix_shape):\n",
    "            sum_row += matrix[number, i]\n",
    "            sum_col += matrix[i, number]\n",
    "        sum_row -= 1\n",
    "        sum_col -= 1\n",
    "        result[number] = sum_row + sum_col\n",
    "    return result.index(max(result))"
   ]
  },
  {
   "cell_type": "code",
   "execution_count": 15,
   "metadata": {},
   "outputs": [
    {
     "name": "stdout",
     "output_type": "stream",
     "text": [
      "[['north america', 100.0], ['alaska', 100.0], ['hawaii', 100.0], ['the caribbean sea', 100.0]]\n"
     ]
    }
   ],
   "source": [
    "entities_popular_max = check_max_repeat(entities_popular)\n",
    "print(entities_popular_max)"
   ]
  },
  {
   "cell_type": "code",
   "execution_count": 16,
   "metadata": {},
   "outputs": [
    {
     "name": "stdout",
     "output_type": "stream",
     "text": [
      "Index of parent node is 0\n"
     ]
    }
   ],
   "source": [
    "parent_node_num = check_max_score(entities_popular_max, relationship_matrix, matrix_shape)\n",
    "print('Index of parent node is %s' % parent_node_num)\n",
    "tree = {'text': labels[parent_node_num], 'id': 0, 'nodes':[]}"
   ]
  },
  {
   "cell_type": "code",
   "execution_count": 17,
   "metadata": {},
   "outputs": [],
   "source": [
    "def find_n_nodes(parent_node_num, df, matrix_shape, n):\n",
    "    nodes = []\n",
    "    for i in range(matrix_shape):\n",
    "        i_row = df.iloc[parent_node_num, i]\n",
    "        if (i_row != 0) and (i_row != 1):\n",
    "            nodes.append([df.index[i], i_row])\n",
    "        i_col = df.iloc[i, parent_node_num]\n",
    "        if (i_col != 0) and (i_col != 1):\n",
    "            nodes.append([df.columns[i], i_col])\n",
    "    nodes.sort(key=take_second, reverse=True)\n",
    "    result = [x[0] for x in nodes[:n]]\n",
    "    return result"
   ]
  },
  {
   "cell_type": "code",
   "execution_count": 18,
   "metadata": {},
   "outputs": [
    {
     "name": "stdout",
     "output_type": "stream",
     "text": [
      "['the united states', 'the pacific ocean', 'the united states of america', 'the caribbean sea', 'the mid - pacific']\n",
      "{'text': 'north america', 'id': 0, 'nodes': [{'text': 'the united states', 'id': 1, 'nodes': []}, {'text': 'the pacific ocean', 'id': 2, 'nodes': []}, {'text': 'the united states of america', 'id': 3, 'nodes': []}, {'text': 'the caribbean sea', 'id': 4, 'nodes': []}, {'text': 'the mid - pacific', 'id': 5, 'nodes': []}]}\n"
     ]
    }
   ],
   "source": [
    "second_level_nodes = find_n_nodes(parent_node_num, df, matrix_shape, 5)\n",
    "print(second_level_nodes)\n",
    "for i in range(len(second_level_nodes)):\n",
    "    tree['nodes'].append({'text': second_level_nodes[i], 'id': i+1, 'nodes':[]})\n",
    "print(tree)"
   ]
  },
  {
   "cell_type": "code",
   "execution_count": 19,
   "metadata": {},
   "outputs": [],
   "source": [
    "def find_rest_nodes(second_level_nodes, df, matrix_shape, labels, tree, parent_node):\n",
    "    result = []\n",
    "    for node in labels:\n",
    "        if (node not in second_level_nodes) and node != parent_node:\n",
    "            nodes_list = []\n",
    "            node_num = labels.index(node)\n",
    "            for i in range(matrix_shape):\n",
    "                i_row = df.iloc[node_num, i]\n",
    "                if ((i_row != 0) and (i_row != 1) and (df.index[i] in second_level_nodes)):\n",
    "                    nodes_list.append([df.index[i], i_row])\n",
    "                i_col = df.iloc[i, node_num]\n",
    "                if ((i_col != 0) and (i_col != 1) and (df.columns[i] in second_level_nodes)):\n",
    "                    nodes_list.append([df.columns[i], i_col])\n",
    "            nodes_list.sort(key=take_second, reverse=True)\n",
    "            result.append([nodes_list[0][0], node])\n",
    "    return result"
   ]
  },
  {
   "cell_type": "code",
   "execution_count": 20,
   "metadata": {},
   "outputs": [
    {
     "name": "stdout",
     "output_type": "stream",
     "text": [
      "[['the mid - pacific', 'alaska'], ['the pacific ocean', 'hawaii'], ['the united states', 'washington'], ['the pacific ocean', 'canada']]\n"
     ]
    }
   ],
   "source": [
    "third_level_nodes = find_rest_nodes(second_level_nodes, df, matrix_shape, labels, tree, labels[parent_node_num])\n",
    "print(third_level_nodes)"
   ]
  },
  {
   "cell_type": "code",
   "execution_count": 21,
   "metadata": {},
   "outputs": [],
   "source": [
    "idx = len(second_level_nodes) + 1\n",
    "for node in third_level_nodes:\n",
    "    for x in tree['nodes']:\n",
    "        if x['text'] == node[0]:\n",
    "            x['nodes'].append({'text': node[1], 'id': idx, 'nodes':[]})\n",
    "            idx += 1"
   ]
  },
  {
   "cell_type": "code",
   "execution_count": 22,
   "metadata": {},
   "outputs": [
    {
     "name": "stdout",
     "output_type": "stream",
     "text": [
      "{\n",
      "  \"text\": \"north america\",\n",
      "  \"id\": 0,\n",
      "  \"nodes\": [\n",
      "    {\n",
      "      \"text\": \"the united states\",\n",
      "      \"id\": 1,\n",
      "      \"nodes\": [\n",
      "        {\n",
      "          \"text\": \"washington\",\n",
      "          \"id\": 8,\n",
      "          \"nodes\": []\n",
      "        }\n",
      "      ]\n",
      "    },\n",
      "    {\n",
      "      \"text\": \"the pacific ocean\",\n",
      "      \"id\": 2,\n",
      "      \"nodes\": [\n",
      "        {\n",
      "          \"text\": \"hawaii\",\n",
      "          \"id\": 7,\n",
      "          \"nodes\": []\n",
      "        },\n",
      "        {\n",
      "          \"text\": \"canada\",\n",
      "          \"id\": 9,\n",
      "          \"nodes\": []\n",
      "        }\n",
      "      ]\n",
      "    },\n",
      "    {\n",
      "      \"text\": \"the united states of america\",\n",
      "      \"id\": 3,\n",
      "      \"nodes\": []\n",
      "    },\n",
      "    {\n",
      "      \"text\": \"the caribbean sea\",\n",
      "      \"id\": 4,\n",
      "      \"nodes\": []\n",
      "    },\n",
      "    {\n",
      "      \"text\": \"the mid - pacific\",\n",
      "      \"id\": 5,\n",
      "      \"nodes\": [\n",
      "        {\n",
      "          \"text\": \"alaska\",\n",
      "          \"id\": 6,\n",
      "          \"nodes\": []\n",
      "        }\n",
      "      ]\n",
      "    }\n",
      "  ]\n",
      "}\n"
     ]
    }
   ],
   "source": [
    "output = json.dumps(tree, indent=2)\n",
    "line_list = output.split(\"\\n\")\n",
    "for line in line_list:\n",
    "    print(line)"
   ]
  }
 ],
 "metadata": {
  "kernelspec": {
   "display_name": "Python 3",
   "language": "python",
   "name": "python3"
  },
  "language_info": {
   "codemirror_mode": {
    "name": "ipython",
    "version": 3
   },
   "file_extension": ".py",
   "mimetype": "text/x-python",
   "name": "python",
   "nbconvert_exporter": "python",
   "pygments_lexer": "ipython3",
   "version": "3.5.2"
  }
 },
 "nbformat": 4,
 "nbformat_minor": 2
}
