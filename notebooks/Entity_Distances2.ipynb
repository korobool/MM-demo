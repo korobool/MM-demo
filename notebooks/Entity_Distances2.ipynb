{
 "cells": [
  {
   "cell_type": "code",
   "execution_count": 1,
   "metadata": {},
   "outputs": [],
   "source": [
    "import json\n",
    "import pandas\n",
    "import numpy as np\n",
    "from gensim import models"
   ]
  },
  {
   "cell_type": "code",
   "execution_count": null,
   "metadata": {},
   "outputs": [],
   "source": [
    "model = models.Doc2Vec.load('../../d2w_model/model.bin')"
   ]
  },
  {
   "cell_type": "code",
   "execution_count": null,
   "metadata": {},
   "outputs": [],
   "source": [
    "def compare_sentences(sentence_a, sentence_b, iters=50):\n",
    "    s = 0\n",
    "    if sentence_a == sentence_b:\n",
    "        return 1.0\n",
    "    for i in range(iters):\n",
    "        a = model.infer_vector(sentence_a.split(), steps=10)\n",
    "        b = model.infer_vector(sentence_b.split(), steps=10)\n",
    "        s += np.dot(a, b)/np.linalg.norm(a)/np.linalg.norm(b)\n",
    "    return s/iters"
   ]
  },
  {
   "cell_type": "code",
   "execution_count": null,
   "metadata": {},
   "outputs": [],
   "source": [
    "def take_second(elem):\n",
    "    return elem[1]"
   ]
  },
  {
   "cell_type": "code",
   "execution_count": null,
   "metadata": {},
   "outputs": [],
   "source": [
    "entities = [['the united states of america', 98.8],\n",
    "            ['washington', 96.6],\n",
    "            ['the united states', 98.6],\n",
    "            ['five', 82.5],\n",
    "            ['north america', 100.0],\n",
    "            ['canada', 96.0],\n",
    "            ['mexico', 89.5],\n",
    "            ['alaska', 100.0],\n",
    "            ['hawaii', 100.0],\n",
    "            ['the mid - pacific', 93.2], \n",
    "            ['the pacific ocean', 97.5],\n",
    "            ['the caribbean sea', 100.0]]"
   ]
  },
  {
   "cell_type": "code",
   "execution_count": null,
   "metadata": {},
   "outputs": [],
   "source": [
    "entities.sort(key=take_second, reverse=True)\n",
    "print(entities)"
   ]
  },
  {
   "cell_type": "code",
   "execution_count": null,
   "metadata": {},
   "outputs": [],
   "source": [
    "matrix_shape = 10\n",
    "entities_popular = entities[:matrix_shape]\n",
    "print(entities_popular)"
   ]
  },
  {
   "cell_type": "code",
   "execution_count": null,
   "metadata": {},
   "outputs": [],
   "source": [
    "relationship_matrix = np.zeros(shape=(matrix_shape, matrix_shape), dtype=float)\n",
    "\n",
    "for i in range(matrix_shape):\n",
    "    for j in range(i, matrix_shape):\n",
    "        # print(compare_sentences(entities_popular[i][0], entities_popular[j][0]))\n",
    "        # print(entities_popular[i][0], '--->', entities_popular[j][0])\n",
    "        relationship_matrix[i, j] = compare_sentences(entities_popular[i][0], entities_popular[j][0])"
   ]
  },
  {
   "cell_type": "code",
   "execution_count": null,
   "metadata": {},
   "outputs": [],
   "source": [
    "labels = [x[0] for x in entities_popular]\n",
    "# print(labels)"
   ]
  },
  {
   "cell_type": "code",
   "execution_count": null,
   "metadata": {},
   "outputs": [],
   "source": [
    "df = pandas.DataFrame(data=relationship_matrix, columns=labels, index=labels)"
   ]
  },
  {
   "cell_type": "code",
   "execution_count": null,
   "metadata": {},
   "outputs": [],
   "source": [
    "df"
   ]
  },
  {
   "cell_type": "code",
   "execution_count": null,
   "metadata": {},
   "outputs": [],
   "source": [
    "print(df.loc['north america'].at['alaska'])\n",
    "print(df.iloc[3, 4])\n",
    "print(df.index[3])\n",
    "print(df.columns[9])"
   ]
  },
  {
   "cell_type": "code",
   "execution_count": null,
   "metadata": {},
   "outputs": [],
   "source": [
    "def check_max_repeat(ent):\n",
    "    first_max = ent[0]\n",
    "    result = []\n",
    "    for x in ent:\n",
    "        if x[1] == first_max[1]:\n",
    "            result.append(x)\n",
    "    return result"
   ]
  },
  {
   "cell_type": "code",
   "execution_count": null,
   "metadata": {},
   "outputs": [],
   "source": [
    "def check_max_score(ent_max, matrix, matrix_shape):\n",
    "    result = [0]*len(ent_max)\n",
    "    for number in range(len(ent_max)):\n",
    "        sum_row = 0\n",
    "        sum_col = 0\n",
    "        for i in range(matrix_shape):\n",
    "            sum_row += matrix[number, i]\n",
    "            sum_col += matrix[i, number]\n",
    "        sum_row -= 1\n",
    "        sum_col -= 1\n",
    "        result[number] = sum_row + sum_col\n",
    "    return result.index(max(result))"
   ]
  },
  {
   "cell_type": "code",
   "execution_count": null,
   "metadata": {},
   "outputs": [],
   "source": [
    "entities_popular_max = check_max_repeat(entities_popular)\n",
    "print(entities_popular_max)"
   ]
  },
  {
   "cell_type": "code",
   "execution_count": null,
   "metadata": {},
   "outputs": [],
   "source": [
    "parent_node_num = check_max_score(entities_popular_max, relationship_matrix, matrix_shape)\n",
    "print('Index of parent node is %s' % parent_node_num)\n",
    "tree = {'text': labels[parent_node_num], 'id': 0, 'nodes':[]}"
   ]
  },
  {
   "cell_type": "code",
   "execution_count": null,
   "metadata": {},
   "outputs": [],
   "source": [
    "def find_n_nodes(parent_node_num, df, matrix_shape, n):\n",
    "    nodes = []\n",
    "    for i in range(matrix_shape):\n",
    "        i_row = df.iloc[parent_node_num, i]\n",
    "        if (i_row != 0) and (i_row != 1):\n",
    "            nodes.append([df.index[i], i_row])\n",
    "        i_col = df.iloc[i, parent_node_num]\n",
    "        if (i_col != 0) and (i_col != 1):\n",
    "            nodes.append([df.columns[i], i_col])\n",
    "    nodes.sort(key=take_second, reverse=True)\n",
    "    result = [x[0] for x in nodes[:n]]\n",
    "    return result"
   ]
  },
  {
   "cell_type": "code",
   "execution_count": null,
   "metadata": {},
   "outputs": [],
   "source": [
    "second_level_nodes = find_n_nodes(parent_node_num, df, matrix_shape, 5)\n",
    "print(second_level_nodes)\n",
    "for i in range(len(second_level_nodes)):\n",
    "    tree['nodes'].append({'text': second_level_nodes[i], 'id': i+1, 'nodes':[]})\n",
    "print(tree)"
   ]
  },
  {
   "cell_type": "code",
   "execution_count": null,
   "metadata": {},
   "outputs": [],
   "source": [
    "def find_rest_nodes(second_level_nodes, df, matrix_shape, labels, tree, parent_node):\n",
    "    result = []\n",
    "    for node in labels:\n",
    "        if (node not in second_level_nodes) and node != parent_node:\n",
    "            nodes_list = []\n",
    "            node_num = labels.index(node)\n",
    "            for i in range(matrix_shape):\n",
    "                i_row = df.iloc[node_num, i]\n",
    "                if ((i_row != 0) and (i_row != 1) and (df.index[i] in second_level_nodes)):\n",
    "                    nodes_list.append([df.index[i], i_row])\n",
    "                i_col = df.iloc[i, node_num]\n",
    "                if ((i_col != 0) and (i_col != 1) and (df.columns[i] in second_level_nodes)):\n",
    "                    nodes_list.append([df.columns[i], i_col])\n",
    "            nodes_list.sort(key=take_second, reverse=True)\n",
    "            result.append([nodes_list[0][0], node])\n",
    "    return result"
   ]
  },
  {
   "cell_type": "code",
   "execution_count": null,
   "metadata": {},
   "outputs": [],
   "source": [
    "third_level_nodes = find_rest_nodes(second_level_nodes, df, matrix_shape, labels, tree, labels[parent_node_num])\n",
    "print(third_level_nodes)"
   ]
  },
  {
   "cell_type": "code",
   "execution_count": null,
   "metadata": {},
   "outputs": [],
   "source": [
    "idx = len(second_level_nodes) + 1\n",
    "for node in third_level_nodes:\n",
    "    for x in tree['nodes']:\n",
    "        if x['text'] == node[0]:\n",
    "            x['nodes'].append({'text': node[1], 'id': idx, 'nodes':[]})\n",
    "            idx += 1"
   ]
  },
  {
   "cell_type": "code",
   "execution_count": null,
   "metadata": {},
   "outputs": [],
   "source": [
    "output = json.dumps(tree, indent=2)\n",
    "line_list = output.split(\"\\n\")\n",
    "for line in line_list:\n",
    "    print(line)"
   ]
  }
 ],
 "metadata": {
  "kernelspec": {
   "display_name": "Python 3",
   "language": "python",
   "name": "python3"
  },
  "language_info": {
   "codemirror_mode": {
    "name": "ipython",
    "version": 3
   },
   "file_extension": ".py",
   "mimetype": "text/x-python",
   "name": "python",
   "nbconvert_exporter": "python",
   "pygments_lexer": "ipython3",
   "version": "3.5.2"
  }
 },
 "nbformat": 4,
 "nbformat_minor": 2
}
